{
  "nbformat": 4,
  "nbformat_minor": 0,
  "metadata": {
    "colab": {
      "name": "CS 301 Group Project.ipynb",
      "provenance": []
    },
    "kernelspec": {
      "name": "python3",
      "display_name": "Python 3"
    },
    "language_info": {
      "name": "python"
    }
  },
  "cells": [
    {
      "cell_type": "code",
      "metadata": {
        "id": "6-ddXJCZbffJ"
      },
      "source": [
        "#This project aims to rank comment toxicity based on a Kaggle challenge"
      ],
      "execution_count": null,
      "outputs": []
    },
    {
      "cell_type": "code",
      "metadata": {
        "id": "fONt8ONFbvda"
      },
      "source": [
        "#This section will import the projects dataset"
      ],
      "execution_count": null,
      "outputs": []
    },
    {
      "cell_type": "code",
      "metadata": {
        "id": "XwM8Py3ZbzKf"
      },
      "source": [
        "#This section will utilize the data to get sentimentality scores"
      ],
      "execution_count": null,
      "outputs": []
    },
    {
      "cell_type": "code",
      "metadata": {
        "id": "w8hK6I6Rb3JM"
      },
      "source": [
        "#This section will see how aspect-mining works and if it is useful here"
      ],
      "execution_count": null,
      "outputs": []
    },
    {
      "cell_type": "code",
      "metadata": {
        "id": "wztYLCEZb_ZR"
      },
      "source": [
        "#This section will look at topic modeling"
      ],
      "execution_count": null,
      "outputs": []
    },
    {
      "cell_type": "code",
      "metadata": {
        "id": "fwdojlA0cDqE"
      },
      "source": [
        "#Here we will use a simple predictive model to utilize the NLP data that has been generated"
      ],
      "execution_count": null,
      "outputs": []
    },
    {
      "cell_type": "code",
      "metadata": {
        "id": "Wcw4VEGTcKT_"
      },
      "source": [
        "#Check how effective the model is with the added data"
      ],
      "execution_count": null,
      "outputs": []
    }
  ]
}